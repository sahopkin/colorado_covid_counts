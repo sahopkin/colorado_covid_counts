{
 "cells": [
  {
   "cell_type": "markdown",
   "metadata": {},
   "source": [
    "# Colorado Covid Counts by County for Jun 1, 2020 - Nov 13, 2021\n",
    "This notebook aims to create geopandas plots of positive Covid cases.  June 1 was chosen because the entries for county name became consistant. All data was sourced from [Colorado Department of Health & Environment](https://covid19.colorado.gov/data)."
   ]
  },
  {
   "cell_type": "code",
   "execution_count": 22,
   "metadata": {},
   "outputs": [],
   "source": [
    "import pandas as pd\n",
    "import matplotlib.pyplot as plt\n",
    "import seaborn as sns\n",
    "import geopandas as gpd\n",
    "import re\n",
    "import glob\n",
    "from sklearn.preprocessing import StandardScaler\n",
    "from sklearn.preprocessing import MinMaxScaler\n",
    "import numpy as np\n",
    "from datetime import datetime, timedelta"
   ]
  },
  {
   "cell_type": "markdown",
   "metadata": {},
   "source": [
    "### Load all files from Jun2020-Nov2021 into one list called `covid_dfs`, and load county shape file with GeoPandas as `co_map`.\n",
    "Note:  It is important to call `files.sort()` or else the globbed files will not be in sequential order.  Shape files were downloaded from [ColoradoView](http://coloradoview.org/colorado-gis/)"
   ]
  },
  {
   "cell_type": "code",
   "execution_count": 23,
   "metadata": {},
   "outputs": [],
   "source": [
    "files = glob.glob('covid_rates/covid_jun2020_nov2021/covid19*.csv')\n",
    "files.sort()\n",
    "\n",
    "covid_dfs = []\n",
    "\n",
    "for filename in files:\n",
    "    pd.set_option('display.max_rows', None)\n",
    "    df = pd.read_csv(filename)\n",
    "    covid_dfs.append(df)\n",
    "    "
   ]
  },
  {
   "cell_type": "code",
   "execution_count": 24,
   "metadata": {},
   "outputs": [
    {
     "data": {
      "text/plain": [
       "['covid_rates/covid_jun2020_nov2021/covid19_case_summary_2020-05-31 copy.csv',\n",
       " 'covid_rates/covid_jun2020_nov2021/covid19_case_summary_2020-06-01 copy.csv',\n",
       " 'covid_rates/covid_jun2020_nov2021/covid19_case_summary_2020-06-02 copy.csv',\n",
       " 'covid_rates/covid_jun2020_nov2021/covid19_case_summary_2020-06-03 copy.csv',\n",
       " 'covid_rates/covid_jun2020_nov2021/covid19_case_summary_2020-06-04 copy.csv']"
      ]
     },
     "execution_count": 24,
     "metadata": {},
     "output_type": "execute_result"
    }
   ],
   "source": [
    "files[0:5]"
   ]
  },
  {
   "cell_type": "code",
   "execution_count": 25,
   "metadata": {},
   "outputs": [
    {
     "data": {
      "text/plain": [
       "['covid_rates/covid_jun2020_nov2021/covid19_case_summary_2021-11-09.csv',\n",
       " 'covid_rates/covid_jun2020_nov2021/covid19_case_summary_2021-11-10.csv',\n",
       " 'covid_rates/covid_jun2020_nov2021/covid19_case_summary_2021-11-11.csv',\n",
       " 'covid_rates/covid_jun2020_nov2021/covid19_case_summary_2021-11-12.csv']"
      ]
     },
     "execution_count": 25,
     "metadata": {},
     "output_type": "execute_result"
    }
   ],
   "source": [
    "files[-4:]"
   ]
  },
  {
   "cell_type": "code",
   "execution_count": 26,
   "metadata": {},
   "outputs": [],
   "source": [
    "#Testing out regex for pulling the proper start date to make titling graphs as automatic as possible!\n",
    "\n",
    "#files[0]"
   ]
  },
  {
   "cell_type": "code",
   "execution_count": 27,
   "metadata": {},
   "outputs": [],
   "source": [
    "#my_date = re.findall(r'202.*\\d', files[4])\n",
    "#print(my_date[0])"
   ]
  },
  {
   "cell_type": "code",
   "execution_count": 28,
   "metadata": {},
   "outputs": [],
   "source": [
    "co_map = gpd.read_file('counties_in_colorado copy/geo_export_7a259668-d326-4724-b8f2-4d6993cf912d.shp')"
   ]
  },
  {
   "cell_type": "code",
   "execution_count": 29,
   "metadata": {},
   "outputs": [
    {
     "name": "stdout",
     "output_type": "stream",
     "text": [
      "498\n"
     ]
    }
   ],
   "source": [
    "print(len(covid_dfs))"
   ]
  },
  {
   "cell_type": "code",
   "execution_count": 30,
   "metadata": {},
   "outputs": [
    {
     "data": {
      "text/html": [
       "<div>\n",
       "<style scoped>\n",
       "    .dataframe tbody tr th:only-of-type {\n",
       "        vertical-align: middle;\n",
       "    }\n",
       "\n",
       "    .dataframe tbody tr th {\n",
       "        vertical-align: top;\n",
       "    }\n",
       "\n",
       "    .dataframe thead th {\n",
       "        text-align: right;\n",
       "    }\n",
       "</style>\n",
       "<table border=\"1\" class=\"dataframe\">\n",
       "  <thead>\n",
       "    <tr style=\"text-align: right;\">\n",
       "      <th></th>\n",
       "      <th>description</th>\n",
       "      <th>attribute</th>\n",
       "      <th>metric</th>\n",
       "      <th>value</th>\n",
       "    </tr>\n",
       "  </thead>\n",
       "  <tbody>\n",
       "    <tr>\n",
       "      <th>0</th>\n",
       "      <td>State Data</td>\n",
       "      <td>Statewide</td>\n",
       "      <td>Cases</td>\n",
       "      <td>26378.0</td>\n",
       "    </tr>\n",
       "    <tr>\n",
       "      <th>1</th>\n",
       "      <td>State Data</td>\n",
       "      <td>Statewide</td>\n",
       "      <td>Hospitalizations</td>\n",
       "      <td>4347.0</td>\n",
       "    </tr>\n",
       "    <tr>\n",
       "      <th>2</th>\n",
       "      <td>State Data</td>\n",
       "      <td>Statewide</td>\n",
       "      <td>Counties</td>\n",
       "      <td>60.0</td>\n",
       "    </tr>\n",
       "    <tr>\n",
       "      <th>3</th>\n",
       "      <td>State Data</td>\n",
       "      <td>Statewide</td>\n",
       "      <td>People Tested</td>\n",
       "      <td>183947.0</td>\n",
       "    </tr>\n",
       "    <tr>\n",
       "      <th>4</th>\n",
       "      <td>State Data</td>\n",
       "      <td>Statewide</td>\n",
       "      <td>Deaths Among Cases</td>\n",
       "      <td>1445.0</td>\n",
       "    </tr>\n",
       "  </tbody>\n",
       "</table>\n",
       "</div>"
      ],
      "text/plain": [
       "  description  attribute              metric     value\n",
       "0  State Data  Statewide               Cases   26378.0\n",
       "1  State Data  Statewide    Hospitalizations    4347.0\n",
       "2  State Data  Statewide            Counties      60.0\n",
       "3  State Data  Statewide       People Tested  183947.0\n",
       "4  State Data  Statewide  Deaths Among Cases    1445.0"
      ]
     },
     "execution_count": 30,
     "metadata": {},
     "output_type": "execute_result"
    }
   ],
   "source": [
    "covid_dfs[0].head()"
   ]
  },
  {
   "cell_type": "code",
   "execution_count": 31,
   "metadata": {},
   "outputs": [
    {
     "data": {
      "text/html": [
       "<div>\n",
       "<style scoped>\n",
       "    .dataframe tbody tr th:only-of-type {\n",
       "        vertical-align: middle;\n",
       "    }\n",
       "\n",
       "    .dataframe tbody tr th {\n",
       "        vertical-align: top;\n",
       "    }\n",
       "\n",
       "    .dataframe thead th {\n",
       "        text-align: right;\n",
       "    }\n",
       "</style>\n",
       "<table border=\"1\" class=\"dataframe\">\n",
       "  <thead>\n",
       "    <tr style=\"text-align: right;\">\n",
       "      <th></th>\n",
       "      <th>co_fips</th>\n",
       "      <th>county</th>\n",
       "      <th>househo_20</th>\n",
       "      <th>pop_2010</th>\n",
       "      <th>shape_st_1</th>\n",
       "      <th>shape_st_2</th>\n",
       "      <th>shape_star</th>\n",
       "      <th>shape_stle</th>\n",
       "      <th>geometry</th>\n",
       "    </tr>\n",
       "  </thead>\n",
       "  <tbody>\n",
       "    <tr>\n",
       "      <th>0</th>\n",
       "      <td>1.0</td>\n",
       "      <td>ADAMS</td>\n",
       "      <td>154502.0</td>\n",
       "      <td>441603.0</td>\n",
       "      <td>3.064413e+09</td>\n",
       "      <td>392729.110497</td>\n",
       "      <td>0.0</td>\n",
       "      <td>0.0</td>\n",
       "      <td>POLYGON ((-103.70574 39.99991, -103.70569 39.9...</td>\n",
       "    </tr>\n",
       "    <tr>\n",
       "      <th>1</th>\n",
       "      <td>3.0</td>\n",
       "      <td>ALAMOSA</td>\n",
       "      <td>6008.0</td>\n",
       "      <td>15445.0</td>\n",
       "      <td>1.872295e+09</td>\n",
       "      <td>177555.351470</td>\n",
       "      <td>0.0</td>\n",
       "      <td>0.0</td>\n",
       "      <td>POLYGON ((-105.59917 37.75216, -105.51619 37.7...</td>\n",
       "    </tr>\n",
       "    <tr>\n",
       "      <th>2</th>\n",
       "      <td>5.0</td>\n",
       "      <td>ARAPAHOE</td>\n",
       "      <td>225124.0</td>\n",
       "      <td>572003.0</td>\n",
       "      <td>2.084863e+09</td>\n",
       "      <td>335003.471310</td>\n",
       "      <td>0.0</td>\n",
       "      <td>0.0</td>\n",
       "      <td>MULTIPOLYGON (((-103.70653 39.73986, -103.7066...</td>\n",
       "    </tr>\n",
       "    <tr>\n",
       "      <th>3</th>\n",
       "      <td>7.0</td>\n",
       "      <td>ARCHULETA</td>\n",
       "      <td>5257.0</td>\n",
       "      <td>12084.0</td>\n",
       "      <td>3.504795e+09</td>\n",
       "      <td>263558.683443</td>\n",
       "      <td>0.0</td>\n",
       "      <td>0.0</td>\n",
       "      <td>POLYGON ((-107.12854 37.42287, -107.12881 37.3...</td>\n",
       "    </tr>\n",
       "    <tr>\n",
       "      <th>4</th>\n",
       "      <td>11.0</td>\n",
       "      <td>BENT</td>\n",
       "      <td>1835.0</td>\n",
       "      <td>6499.0</td>\n",
       "      <td>3.990976e+09</td>\n",
       "      <td>254662.200852</td>\n",
       "      <td>0.0</td>\n",
       "      <td>0.0</td>\n",
       "      <td>POLYGON ((-102.74208 38.26675, -102.74211 38.2...</td>\n",
       "    </tr>\n",
       "  </tbody>\n",
       "</table>\n",
       "</div>"
      ],
      "text/plain": [
       "   co_fips     county  househo_20  pop_2010    shape_st_1     shape_st_2  \\\n",
       "0      1.0      ADAMS    154502.0  441603.0  3.064413e+09  392729.110497   \n",
       "1      3.0    ALAMOSA      6008.0   15445.0  1.872295e+09  177555.351470   \n",
       "2      5.0   ARAPAHOE    225124.0  572003.0  2.084863e+09  335003.471310   \n",
       "3      7.0  ARCHULETA      5257.0   12084.0  3.504795e+09  263558.683443   \n",
       "4     11.0       BENT      1835.0    6499.0  3.990976e+09  254662.200852   \n",
       "\n",
       "   shape_star  shape_stle                                           geometry  \n",
       "0         0.0         0.0  POLYGON ((-103.70574 39.99991, -103.70569 39.9...  \n",
       "1         0.0         0.0  POLYGON ((-105.59917 37.75216, -105.51619 37.7...  \n",
       "2         0.0         0.0  MULTIPOLYGON (((-103.70653 39.73986, -103.7066...  \n",
       "3         0.0         0.0  POLYGON ((-107.12854 37.42287, -107.12881 37.3...  \n",
       "4         0.0         0.0  POLYGON ((-102.74208 38.26675, -102.74211 38.2...  "
      ]
     },
     "execution_count": 31,
     "metadata": {},
     "output_type": "execute_result"
    }
   ],
   "source": [
    "co_map.head()"
   ]
  },
  {
   "cell_type": "markdown",
   "metadata": {},
   "source": [
    "### Data Cleaning\n",
    "Clean the covid data files as follows:\n",
    "1. Create two DataFrames called `curr` and `prev` which will be used for calculation purposes in step 5.\n",
    "2. Rows with the attribute \"International\" are removed.\n",
    "3. Rows with the attribute \"Note\" are removed.\n",
    "4. DataFrame is sliced to only include rows with cumulative county counts of Covid cases.\n",
    "5. A new column is added titled `count_diff` that uses current and prior months cumulative counts to determine how many new cases occured on a given day.\n",
    "6. A new column is added titled `county` that includes each county in all caps.\n",
    "7. A new slice of the DataFrame is saved that drops the `description` and `attribute` columns.\n",
    "\n",
    "A for loop is used to clean each DataFrame.  The cleaned DataFrames are appended to the empty list `covid_counts`.\n"
   ]
  },
  {
   "cell_type": "code",
   "execution_count": 32,
   "metadata": {},
   "outputs": [],
   "source": [
    "covid_counts = []\n",
    "covid_counts_maxes = []\n",
    "\n",
    "for i in range(1, len(covid_dfs)):\n",
    "    curr = covid_dfs[i][(covid_dfs[i]['description'] == 'Colorado Case Counts by County') & (covid_dfs[i]['attribute'] != \"Note\") & (covid_dfs[i]['attribute'] != \"International\")]\n",
    "    prev = covid_dfs[i-1][(covid_dfs[i-1]['description'] == 'Colorado Case Counts by County') & (covid_dfs[i-1]['attribute'] != \"Note\") & (covid_dfs[i-1]['attribute'] != \"International\")]\n",
    "    merged = curr.merge(prev, how='inner', on='attribute')\n",
    "    merged['count_diff'] = merged['value_x'] - merged['value_y']\n",
    "    merged['county'] = merged['attribute'].apply(lambda x: x.replace(\" County\", \"\").upper())\n",
    "    #covid_counts.append(merged)\n",
    "    #covid_counts_maxes.append(merged['count_diff'].max())\n",
    "    new_merged = merged[['county', 'count_diff']]\n",
    "    covid_counts.append(new_merged)\n",
    "    covid_counts_maxes.append(new_merged['count_diff'].max())\n",
    "    \n"
   ]
  },
  {
   "cell_type": "code",
   "execution_count": 33,
   "metadata": {},
   "outputs": [
    {
     "name": "stdout",
     "output_type": "stream",
     "text": [
      "      county  count_diff\n",
      "0      ADAMS        33.0\n",
      "1    ALAMOSA         2.0\n",
      "2   ARAPAHOE        22.0\n",
      "3  ARCHULETA         0.0\n",
      "4       BACA         0.0\n",
      "The highest report of positive cases for a county in this time frame is: 1148.0\n"
     ]
    }
   ],
   "source": [
    "print(covid_counts[0].head())\n",
    "print(f'The highest report of positive cases for a county in this time frame is: {max(covid_counts_maxes)}')"
   ]
  },
  {
   "cell_type": "code",
   "execution_count": 34,
   "metadata": {},
   "outputs": [
    {
     "data": {
      "text/html": [
       "<div>\n",
       "<style scoped>\n",
       "    .dataframe tbody tr th:only-of-type {\n",
       "        vertical-align: middle;\n",
       "    }\n",
       "\n",
       "    .dataframe tbody tr th {\n",
       "        vertical-align: top;\n",
       "    }\n",
       "\n",
       "    .dataframe thead th {\n",
       "        text-align: right;\n",
       "    }\n",
       "</style>\n",
       "<table border=\"1\" class=\"dataframe\">\n",
       "  <thead>\n",
       "    <tr style=\"text-align: right;\">\n",
       "      <th></th>\n",
       "      <th>county</th>\n",
       "      <th>count_diff</th>\n",
       "    </tr>\n",
       "  </thead>\n",
       "  <tbody>\n",
       "    <tr>\n",
       "      <th>0</th>\n",
       "      <td>ADAMS</td>\n",
       "      <td>33.0</td>\n",
       "    </tr>\n",
       "    <tr>\n",
       "      <th>1</th>\n",
       "      <td>ALAMOSA</td>\n",
       "      <td>2.0</td>\n",
       "    </tr>\n",
       "    <tr>\n",
       "      <th>2</th>\n",
       "      <td>ARAPAHOE</td>\n",
       "      <td>22.0</td>\n",
       "    </tr>\n",
       "    <tr>\n",
       "      <th>3</th>\n",
       "      <td>ARCHULETA</td>\n",
       "      <td>0.0</td>\n",
       "    </tr>\n",
       "    <tr>\n",
       "      <th>4</th>\n",
       "      <td>BACA</td>\n",
       "      <td>0.0</td>\n",
       "    </tr>\n",
       "  </tbody>\n",
       "</table>\n",
       "</div>"
      ],
      "text/plain": [
       "      county  count_diff\n",
       "0      ADAMS        33.0\n",
       "1    ALAMOSA         2.0\n",
       "2   ARAPAHOE        22.0\n",
       "3  ARCHULETA         0.0\n",
       "4       BACA         0.0"
      ]
     },
     "execution_count": 34,
     "metadata": {},
     "output_type": "execute_result"
    }
   ],
   "source": [
    "covid_counts[0].head()"
   ]
  },
  {
   "cell_type": "markdown",
   "metadata": {},
   "source": [
    "### Merging Covid Case Counts with County Shape Data\n",
    "A for loop combines the county shape data with each Covid case count DataFrame.  These two tables are of different types so the merged version is reassigned as a GeoDataFrame and stored in the list `shp_cv_list`."
   ]
  },
  {
   "cell_type": "markdown",
   "metadata": {},
   "source": [
    "#### Code Notes:\n",
    "Four additional columns are added to this merged DataFrame for normilization and titling purposes.  The column `perc_pop_pos` provides the percent of the population that tested positive for Covid each day.  This population is based on 2010 Census data.  The column `stand_count` displays the standardized values of positive cases, and the column `norm_count` displays the normalized positive-case counts.  Since the distribution is not Gausian and the counts have a large range with much variability, I decided to graph the normalized counts.  The final column is the `date` column.  It contains a string representation of the date for the presented data.  This column will be used to title the plots generated by GeoPandas.\n",
    "\n",
    "Note<sub>1</sub>:  The regex method `findall` is used to pull the date of the second file from the files list (since the first file is only used to determine the count of the true first day of the sequence).  `start_date` usind indexing to pull that string date from the resulting list object.  `datetime.strptime` is used to covert the `date` string into a date object.  The `j` iterator in the for loop is used to pull the appropriate date from the `files` list each iteration resulting in the correct date for the `date` column.  This value is reformatted using `datetime.strftime` so that it displays the format `Full_Month_Name dd, YYYY` (respectively).\n",
    "\n",
    "Note<sub>2</sub>:  Some of the `count_diff` values were negative (possibly due to improper reporting).  Since the negative values were never less than 3 or 4, I adjusted all negative `count_diff`s to 0."
   ]
  },
  {
   "cell_type": "code",
   "execution_count": 35,
   "metadata": {},
   "outputs": [],
   "source": [
    "shp_cv_list = []\n",
    "perc_max_list = []\n",
    "\n",
    "norm = MinMaxScaler()\n",
    "\n",
    "\n",
    "for j in range(len(covid_counts)):  \n",
    "    date_from_files = re.findall(r'202[01]-.*\\d', files[j+1])\n",
    "    date = datetime.strptime(date_from_files[0], '%Y-%m-%d').date()\n",
    "    \n",
    "    df_merged = co_map.merge(covid_counts[j], how='inner', on='county')\n",
    "    df_merged['perc_pop_pos'] = (df_merged['count_diff'] / df_merged['pop_2010']) * 100\n",
    "    df_merged['count_diff'] = df_merged['count_diff'].apply(lambda x: 0 if x < 0 else x)\n",
    "    count_diff_array = df_merged['count_diff'].to_numpy()\n",
    "    count_diff_reshaped = count_diff_array.reshape(-1, 1)\n",
    "    df_merged['norm_count'] = norm.fit_transform(count_diff_reshaped)\n",
    "    df_merged['log_norm_count'] = np.log(df_merged['count_diff'] + 1)\n",
    "    df_merged['date'] = date.strftime('%B %d, %Y')\n",
    "    perc_max_list.append(df_merged['perc_pop_pos'].max())\n",
    "    geo_df = gpd.GeoDataFrame(df_merged)\n",
    "    shp_cv_list.append(geo_df)"
   ]
  },
  {
   "cell_type": "code",
   "execution_count": 36,
   "metadata": {},
   "outputs": [
    {
     "name": "stdout",
     "output_type": "stream",
     "text": [
      "497\n"
     ]
    }
   ],
   "source": [
    "print(len(shp_cv_list))"
   ]
  },
  {
   "cell_type": "code",
   "execution_count": 37,
   "metadata": {
    "scrolled": false
   },
   "outputs": [
    {
     "data": {
      "text/html": [
       "<div>\n",
       "<style scoped>\n",
       "    .dataframe tbody tr th:only-of-type {\n",
       "        vertical-align: middle;\n",
       "    }\n",
       "\n",
       "    .dataframe tbody tr th {\n",
       "        vertical-align: top;\n",
       "    }\n",
       "\n",
       "    .dataframe thead th {\n",
       "        text-align: right;\n",
       "    }\n",
       "</style>\n",
       "<table border=\"1\" class=\"dataframe\">\n",
       "  <thead>\n",
       "    <tr style=\"text-align: right;\">\n",
       "      <th></th>\n",
       "      <th>co_fips</th>\n",
       "      <th>county</th>\n",
       "      <th>househo_20</th>\n",
       "      <th>pop_2010</th>\n",
       "      <th>shape_st_1</th>\n",
       "      <th>shape_st_2</th>\n",
       "      <th>shape_star</th>\n",
       "      <th>shape_stle</th>\n",
       "      <th>geometry</th>\n",
       "      <th>count_diff</th>\n",
       "      <th>perc_pop_pos</th>\n",
       "      <th>norm_count</th>\n",
       "      <th>log_norm_count</th>\n",
       "      <th>date</th>\n",
       "    </tr>\n",
       "  </thead>\n",
       "  <tbody>\n",
       "    <tr>\n",
       "      <th>0</th>\n",
       "      <td>1.0</td>\n",
       "      <td>ADAMS</td>\n",
       "      <td>154502.0</td>\n",
       "      <td>441603.0</td>\n",
       "      <td>3.064413e+09</td>\n",
       "      <td>392729.110497</td>\n",
       "      <td>0.0</td>\n",
       "      <td>0.0</td>\n",
       "      <td>POLYGON ((-103.70574 39.99991, -103.70569 39.9...</td>\n",
       "      <td>31.0</td>\n",
       "      <td>0.007020</td>\n",
       "      <td>0.704545</td>\n",
       "      <td>3.465736</td>\n",
       "      <td>June 13, 2020</td>\n",
       "    </tr>\n",
       "    <tr>\n",
       "      <th>1</th>\n",
       "      <td>3.0</td>\n",
       "      <td>ALAMOSA</td>\n",
       "      <td>6008.0</td>\n",
       "      <td>15445.0</td>\n",
       "      <td>1.872295e+09</td>\n",
       "      <td>177555.351470</td>\n",
       "      <td>0.0</td>\n",
       "      <td>0.0</td>\n",
       "      <td>POLYGON ((-105.59917 37.75216, -105.51619 37.7...</td>\n",
       "      <td>2.0</td>\n",
       "      <td>0.012949</td>\n",
       "      <td>0.045455</td>\n",
       "      <td>1.098612</td>\n",
       "      <td>June 13, 2020</td>\n",
       "    </tr>\n",
       "    <tr>\n",
       "      <th>2</th>\n",
       "      <td>5.0</td>\n",
       "      <td>ARAPAHOE</td>\n",
       "      <td>225124.0</td>\n",
       "      <td>572003.0</td>\n",
       "      <td>2.084863e+09</td>\n",
       "      <td>335003.471310</td>\n",
       "      <td>0.0</td>\n",
       "      <td>0.0</td>\n",
       "      <td>MULTIPOLYGON (((-103.70653 39.73986, -103.7066...</td>\n",
       "      <td>34.0</td>\n",
       "      <td>0.005944</td>\n",
       "      <td>0.772727</td>\n",
       "      <td>3.555348</td>\n",
       "      <td>June 13, 2020</td>\n",
       "    </tr>\n",
       "    <tr>\n",
       "      <th>3</th>\n",
       "      <td>7.0</td>\n",
       "      <td>ARCHULETA</td>\n",
       "      <td>5257.0</td>\n",
       "      <td>12084.0</td>\n",
       "      <td>3.504795e+09</td>\n",
       "      <td>263558.683443</td>\n",
       "      <td>0.0</td>\n",
       "      <td>0.0</td>\n",
       "      <td>POLYGON ((-107.12854 37.42287, -107.12881 37.3...</td>\n",
       "      <td>0.0</td>\n",
       "      <td>0.000000</td>\n",
       "      <td>0.000000</td>\n",
       "      <td>0.000000</td>\n",
       "      <td>June 13, 2020</td>\n",
       "    </tr>\n",
       "    <tr>\n",
       "      <th>4</th>\n",
       "      <td>11.0</td>\n",
       "      <td>BENT</td>\n",
       "      <td>1835.0</td>\n",
       "      <td>6499.0</td>\n",
       "      <td>3.990976e+09</td>\n",
       "      <td>254662.200852</td>\n",
       "      <td>0.0</td>\n",
       "      <td>0.0</td>\n",
       "      <td>POLYGON ((-102.74208 38.26675, -102.74211 38.2...</td>\n",
       "      <td>0.0</td>\n",
       "      <td>0.000000</td>\n",
       "      <td>0.000000</td>\n",
       "      <td>0.000000</td>\n",
       "      <td>June 13, 2020</td>\n",
       "    </tr>\n",
       "  </tbody>\n",
       "</table>\n",
       "</div>"
      ],
      "text/plain": [
       "   co_fips     county  househo_20  pop_2010    shape_st_1     shape_st_2  \\\n",
       "0      1.0      ADAMS    154502.0  441603.0  3.064413e+09  392729.110497   \n",
       "1      3.0    ALAMOSA      6008.0   15445.0  1.872295e+09  177555.351470   \n",
       "2      5.0   ARAPAHOE    225124.0  572003.0  2.084863e+09  335003.471310   \n",
       "3      7.0  ARCHULETA      5257.0   12084.0  3.504795e+09  263558.683443   \n",
       "4     11.0       BENT      1835.0    6499.0  3.990976e+09  254662.200852   \n",
       "\n",
       "   shape_star  shape_stle                                           geometry  \\\n",
       "0         0.0         0.0  POLYGON ((-103.70574 39.99991, -103.70569 39.9...   \n",
       "1         0.0         0.0  POLYGON ((-105.59917 37.75216, -105.51619 37.7...   \n",
       "2         0.0         0.0  MULTIPOLYGON (((-103.70653 39.73986, -103.7066...   \n",
       "3         0.0         0.0  POLYGON ((-107.12854 37.42287, -107.12881 37.3...   \n",
       "4         0.0         0.0  POLYGON ((-102.74208 38.26675, -102.74211 38.2...   \n",
       "\n",
       "   count_diff  perc_pop_pos  norm_count  log_norm_count           date  \n",
       "0        31.0      0.007020    0.704545        3.465736  June 13, 2020  \n",
       "1         2.0      0.012949    0.045455        1.098612  June 13, 2020  \n",
       "2        34.0      0.005944    0.772727        3.555348  June 13, 2020  \n",
       "3         0.0      0.000000    0.000000        0.000000  June 13, 2020  \n",
       "4         0.0      0.000000    0.000000        0.000000  June 13, 2020  "
      ]
     },
     "execution_count": 37,
     "metadata": {},
     "output_type": "execute_result"
    }
   ],
   "source": [
    "shp_cv_list[12].head()"
   ]
  },
  {
   "cell_type": "markdown",
   "metadata": {},
   "source": [
    "# GeoPandas Plots of Colorado County Data\n",
    "The maps below displays normalized new cases reported by each county on a daily basis from November 1, 2020 - December 31, 2020."
   ]
  },
  {
   "cell_type": "markdown",
   "metadata": {},
   "source": [
    "#### Practice Map - Oct 15, 2021"
   ]
  },
  {
   "cell_type": "code",
   "execution_count": 47,
   "metadata": {},
   "outputs": [
    {
     "data": {
      "text/plain": [
       "<AxesSubplot:title={'center':'Colorado COVID Case Count by County June 2020 - November 2021\\nOctober 15, 2021'}>"
      ]
     },
     "execution_count": 47,
     "metadata": {},
     "output_type": "execute_result"
    },
    {
     "data": {
      "image/png": "[encoded data removed]",
      "text/plain": [
       "<Figure size 576x396 with 2 Axes>"
      ]
     },
     "metadata": {
      "needs_background": "light"
     },
     "output_type": "display_data"
    }
   ],
   "source": [
    "fig, ax = plt.subplots(1, 1, figsize=(8, 5.5))\n",
    "plt.title(f\"Colorado COVID Case Count by County June 2020 - November 2021\\n{shp_cv_list[476].date[0]}\")\n",
    "ax.set_axis_off()\n",
    "shp_cv_list[476].plot(column=f'log_norm_count', \n",
    "    cmap='gist_heat_r',\n",
    "    edgecolor='gray',\n",
    "    vmin=0,\n",
    "    vmax=7,\n",
    "    ax=ax, \n",
    "    legend=True, \n",
    "    legend_kwds = {'label': f'Log-Normalized Count of Positive COVID Cases',\n",
    "                    'orientation': 'horizontal'})"
   ]
  },
  {
   "cell_type": "code",
   "execution_count": null,
   "metadata": {},
   "outputs": [],
   "source": []
  },
  {
   "cell_type": "markdown",
   "metadata": {},
   "source": [
    "### 498 Geopandas Plots - One for each day between June 1, 2020 - Nov 12, 2021\n",
    "Each plot is saved as a .jpg so that it can be uploaded in to a video editor.  All plots will be strung together to create a flipbook style video displaying changes in positive cases for each county in Colorado throughout the specified time frame."
   ]
  },
  {
   "cell_type": "code",
   "execution_count": 21,
   "metadata": {},
   "outputs": [],
   "source": [
    "for k in range(len(shp_cv_list)):\n",
    "    fig, ax = plt.subplots(1, 1, figsize=(8,5.5))\n",
    "    plt.title(f\"Colorado COVID Case Count by County June 2020 - November 2021\\n{shp_cv_list[k].date[0]}\")\n",
    "    ax.set_axis_off()\n",
    "    shp_cv_list[k].plot(column=f'log_norm_count', \n",
    "        cmap='gist_heat_r',\n",
    "        edgecolor='gray',\n",
    "        vmin=0,\n",
    "        vmax=7,\n",
    "        ax=ax, \n",
    "        legend=True, \n",
    "        legend_kwds = {'label': f'Log-Normalized Count of Positive COVID Cases',\n",
    "                        'orientation': 'horizontal'})\n",
    "    plt.savefig(f'log_norm_covid_count_by_county_jun_oct{k}.jpg')\n",
    "    plt.close()"
   ]
  },
  {
   "cell_type": "code",
   "execution_count": null,
   "metadata": {},
   "outputs": [],
   "source": []
  },
  {
   "cell_type": "code",
   "execution_count": null,
   "metadata": {},
   "outputs": [],
   "source": []
  },
  {
   "cell_type": "code",
   "execution_count": null,
   "metadata": {},
   "outputs": [],
   "source": []
  }
 ],
 "metadata": {
  "kernelspec": {
   "display_name": "Python 3",
   "language": "python",
   "name": "python3"
  },
  "language_info": {
   "codemirror_mode": {
    "name": "ipython",
    "version": 3
   },
   "file_extension": ".py",
   "mimetype": "text/x-python",
   "name": "python",
   "nbconvert_exporter": "python",
   "pygments_lexer": "ipython3",
   "version": "3.7.9"
  }
 },
 "nbformat": 4,
 "nbformat_minor": 4
}
